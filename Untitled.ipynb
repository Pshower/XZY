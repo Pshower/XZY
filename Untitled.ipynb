{
 "cells": [
  {
   "cell_type": "code",
   "execution_count": 1,
   "id": "f79a3b70-a0b6-40a2-ba18-19511a112008",
   "metadata": {},
   "outputs": [],
   "source": [
    "import pandas as pd\n",
    "import numpy as np\n",
    "import akshare as ak\n",
    "import time\n",
    "from multiprocessing.dummy import Pool as ThreadPool"
   ]
  },
  {
   "cell_type": "code",
   "execution_count": 2,
   "id": "7b10a09d-eaa5-4b3d-bd7d-de5c38ecdc3a",
   "metadata": {},
   "outputs": [],
   "source": [
    "def get_index_codes(index='000300'):\n",
    "    index300_stock_info_df = ak.index_stock_cons_sina(symbol=index)\n",
    "    code300=index300_stock_info_df['code']\n",
    "    code300.to_csv('01_data/hs300_list.csv',dtype={'code': 'str'})\n",
    "    code300=code300.tolist()\n",
    "    return code300"
   ]
  },
  {
   "cell_type": "code",
   "execution_count": 3,
   "id": "1bc72f6a-f3ec-4247-a334-ad007f3a05d4",
   "metadata": {},
   "outputs": [
    {
     "ename": "TypeError",
     "evalue": "NDFrame.to_csv() got an unexpected keyword argument 'dtype'",
     "output_type": "error",
     "traceback": [
      "\u001b[1;31m---------------------------------------------------------------------------\u001b[0m",
      "\u001b[1;31mTypeError\u001b[0m                                 Traceback (most recent call last)",
      "Cell \u001b[1;32mIn[3], line 1\u001b[0m\n\u001b[1;32m----> 1\u001b[0m get_index_codes()\n",
      "Cell \u001b[1;32mIn[2], line 4\u001b[0m, in \u001b[0;36mget_index_codes\u001b[1;34m(index)\u001b[0m\n\u001b[0;32m      2\u001b[0m index300_stock_info_df \u001b[38;5;241m=\u001b[39m ak\u001b[38;5;241m.\u001b[39mindex_stock_cons_sina(symbol\u001b[38;5;241m=\u001b[39mindex)\n\u001b[0;32m      3\u001b[0m code300\u001b[38;5;241m=\u001b[39mindex300_stock_info_df[\u001b[38;5;124m'\u001b[39m\u001b[38;5;124mcode\u001b[39m\u001b[38;5;124m'\u001b[39m]\n\u001b[1;32m----> 4\u001b[0m code300\u001b[38;5;241m.\u001b[39mto_csv(\u001b[38;5;124m'\u001b[39m\u001b[38;5;124m01_data/hs300_list.csv\u001b[39m\u001b[38;5;124m'\u001b[39m,dtype\u001b[38;5;241m=\u001b[39m{\u001b[38;5;124m'\u001b[39m\u001b[38;5;124mcode\u001b[39m\u001b[38;5;124m'\u001b[39m: \u001b[38;5;124m'\u001b[39m\u001b[38;5;124mstr\u001b[39m\u001b[38;5;124m'\u001b[39m})\n\u001b[0;32m      5\u001b[0m code300\u001b[38;5;241m=\u001b[39mcode300\u001b[38;5;241m.\u001b[39mtolist()\n\u001b[0;32m      6\u001b[0m \u001b[38;5;28;01mreturn\u001b[39;00m code300\n",
      "\u001b[1;31mTypeError\u001b[0m: NDFrame.to_csv() got an unexpected keyword argument 'dtype'"
     ]
    }
   ],
   "source": [
    "get_index_codes()"
   ]
  },
  {
   "cell_type": "code",
   "execution_count": null,
   "id": "d24178e7-9397-41b1-80a2-c2f90b65f939",
   "metadata": {},
   "outputs": [],
   "source": []
  },
  {
   "cell_type": "code",
   "execution_count": null,
   "id": "e2f896b7-42e6-4a22-aaf5-96ea8acddc61",
   "metadata": {},
   "outputs": [],
   "source": []
  }
 ],
 "metadata": {
  "kernelspec": {
   "display_name": "Python 3 (ipykernel)",
   "language": "python",
   "name": "python3"
  },
  "language_info": {
   "codemirror_mode": {
    "name": "ipython",
    "version": 3
   },
   "file_extension": ".py",
   "mimetype": "text/x-python",
   "name": "python",
   "nbconvert_exporter": "python",
   "pygments_lexer": "ipython3",
   "version": "3.11.5"
  }
 },
 "nbformat": 4,
 "nbformat_minor": 5
}
